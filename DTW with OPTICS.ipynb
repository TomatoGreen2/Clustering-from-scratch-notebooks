{
 "cells": [
  {
   "cell_type": "markdown",
   "id": "02094e8e-0a0d-443b-b308-bb52c1087943",
   "metadata": {},
   "source": [
    "This short notebook contains three functions: (1) dynamic_time_warping -> calculates the alignment cost (not average cost) between two lists; (2) calculate_distances -> calculates the alignment cost of an entire numpy array of series data and returns a numpy array of distances between series; (3) optics -> takes in a numpy array of distances and calculates the cluster assignment between corresponding points.\n",
    "For more information, see:\n",
    "(a) https://towardsdatascience.com/understanding-optics-and-implementation-with-python-143572abdfb6\n",
    "(b) https://www.youtube.com/@HermanKamperML/videos"
   ]
  },
  {
   "cell_type": "markdown",
   "id": "a1b448e5-2fcd-4a53-b5a7-3260383f18ad",
   "metadata": {},
   "source": [
    "##"
   ]
  },
  {
   "cell_type": "code",
   "execution_count": null,
   "id": "fc002bf3-d9ae-45db-8b4f-381b2f0e1791",
   "metadata": {},
   "outputs": [],
   "source": [
    "import numpy as np\n",
    "\n",
    "def dynamic_time_warping(ts1, ts2):\n",
    "    # Calculate the Euclidean distance between two points in the time series\n",
    "    def euclidean_distance(point1, point2):\n",
    "        return np.sqrt((point1 - point2)**2)\n",
    "\n",
    "    # Initialize the cost matrix with large values\n",
    "    cost_matrix = np.full((len(ts1), len(ts2)), np.inf)\n",
    "\n",
    "    # Set the initial cost to 0\n",
    "    cost_matrix[0, 0] = euclidean_distance(ts1[0], ts2[0])\n",
    "\n",
    "    # Fill the first row of the cost matrix\n",
    "    for i in range(1, len(ts2)):\n",
    "        cost_matrix[0, i] = cost_matrix[0, i - 1] + euclidean_distance(ts1[0], ts2[i])\n",
    "\n",
    "    # Fill the first column of the cost matrix\n",
    "    for i in range(1, len(ts1)):\n",
    "        cost_matrix[i, 0] = cost_matrix[i - 1, 0] + euclidean_distance(ts1[i], ts2[0])\n",
    "\n",
    "    # Fill the rest of the cost matrix\n",
    "    for i in range(1, len(ts1)):\n",
    "        for j in range(1, len(ts2)):\n",
    "            cost_matrix[i, j] = euclidean_distance(ts1[i], ts2[j]) + min(\n",
    "                cost_matrix[i - 1, j],      # Insertion\n",
    "                cost_matrix[i, j - 1],      # Deletion\n",
    "                cost_matrix[i - 1, j - 1]   # Match\n",
    "            )\n",
    "\n",
    "    # Return the alignment cost (DTW distance)\n",
    "    return cost_matrix[-1, -1]\n",
    "\n",
    "# Example usage\n",
    "time_series1 = np.array([1, 2, 3, 4, 5])\n",
    "time_series2 = np.array([2, 3, 4, 5, 6])\n",
    "\n",
    "alignment_cost = dynamic_time_warping(time_series1, time_series2)\n",
    "print(\"Alignment Cost (DTW Distance):\", alignment_cost)\n"
   ]
  },
  {
   "cell_type": "code",
   "execution_count": null,
   "id": "80e6a9e9-5692-49df-8479-2316c7f7c07c",
   "metadata": {},
   "outputs": [],
   "source": [
    "import numpy as np\n",
    "\n",
    "def calculate_distances(series_data):\n",
    "    num_series = len(series_data)\n",
    "    distances = np.zeros((num_series, num_series))\n",
    "\n",
    "    for i in range(num_series):\n",
    "        for j in range(i + 1, num_series):\n",
    "            distance = dynamic_time_warping(series_data[i].tolist(), series_data[j].tolist())\n",
    "            distances[i, j] = distance\n",
    "            distances[j, i] = distance  # Distance matrix is symmetric\n",
    "\n",
    "    return distances"
   ]
  },
  {
   "cell_type": "code",
   "execution_count": null,
   "id": "fadb4f3d-d825-4247-8835-73a9590fbc36",
   "metadata": {},
   "outputs": [],
   "source": [
    "import numpy as np\n",
    "\n",
    "def optics(distances, epsilon, min_pts):\n",
    "    num_points = len(distances)\n",
    "    reachability_distances = np.full(num_points, np.inf)\n",
    "    processed_points = set()\n",
    "    cluster_id = 0\n",
    "    cluster_assignments = np.full(num_points, -1)\n",
    "\n",
    "    def update_seeds(current_point, neighbors, seeds, reachability_distances, epsilon):\n",
    "        for neighbor in neighbors:\n",
    "            if neighbor not in processed_points:\n",
    "                new_reachability_distance = max(distances[current_point, neighbor], reachability_distances[current_point])\n",
    "\n",
    "                if new_reachability_distance < reachability_distances[neighbor]:\n",
    "                    reachability_distances[neighbor] = new_reachability_distance\n",
    "\n",
    "                    if new_reachability_distance <= epsilon and neighbor not in seeds:\n",
    "                        seeds.append(neighbor)\n",
    "\n",
    "    for point in range(num_points):\n",
    "        if point not in processed_points:\n",
    "            processed_points.add(point)\n",
    "            neighbors = np.where(distances[point] <= epsilon)[0]\n",
    "\n",
    "            if len(neighbors) >= min_pts:\n",
    "                cluster_id += 1\n",
    "                cluster_assignments[point] = cluster_id\n",
    "                seeds = [neighbor for neighbor in neighbors if point != neighbor]\n",
    "\n",
    "                update_seeds(point, neighbors, seeds, reachability_distances, epsilon)\n",
    "\n",
    "                while seeds:\n",
    "                    current_seed = seeds.pop(0)\n",
    "                    current_seed_neighbors = np.where(distances[current_seed] <= epsilon)[0]\n",
    "\n",
    "                    if len(current_seed_neighbors) >= min_pts:\n",
    "                        cluster_assignments[current_seed] = cluster_id\n",
    "                        update_seeds(current_seed, current_seed_neighbors, seeds, reachability_distances, epsilon)\n",
    "\n",
    "    return cluster_assignments\n"
   ]
  },
  {
   "cell_type": "code",
   "execution_count": null,
   "id": "a3016ed7-2c93-4cb8-8cea-82c358bce1b8",
   "metadata": {},
   "outputs": [],
   "source": [
    "### Application:\n",
    "\n",
    "series_data = np.random.rand(11, 10) \n",
    "\n",
    "distances = calculate_distances(series_data)\n",
    "\n",
    "epsilon = 2  # Adjust as needed -> some datasets need values as low as 0.5\n",
    "min_pts = 2    # Adjust as needed\n",
    "\n",
    "cluster_assignments = optics(distances, epsilon, min_pts)\n",
    "print(\"Cluster Assignments:\", cluster_assignments)"
   ]
  }
 ],
 "metadata": {
  "kernelspec": {
   "display_name": "NitScrap",
   "language": "python",
   "name": "nitscrap"
  },
  "language_info": {
   "codemirror_mode": {
    "name": "ipython",
    "version": 3
   },
   "file_extension": ".py",
   "mimetype": "text/x-python",
   "name": "python",
   "nbconvert_exporter": "python",
   "pygments_lexer": "ipython3",
   "version": "3.11.5"
  }
 },
 "nbformat": 4,
 "nbformat_minor": 5
}
